{
 "cells": [
  {
   "cell_type": "code",
   "execution_count": 1,
   "metadata": {},
   "outputs": [],
   "source": [
    "# Import dependencies\n",
    "import numpy as np\n",
    "import pandas as pd\n",
    "from pathlib import Path\n",
    "from sklearn.preprocessing import LabelEncoder\n",
    "from sklearn.linear_model import LogisticRegression\n",
    "from sklearn.ensemble import RandomForestClassifier\n",
    "from sklearn.preprocessing import StandardScaler\n",
    "from sklearn.feature_selection import SelectFromModel"
   ]
  },
  {
   "cell_type": "code",
   "execution_count": 2,
   "metadata": {},
   "outputs": [],
   "source": [
    "train_df = pd.read_csv(Path('Resources/2019loans.csv'))\n",
    "test_df = pd.read_csv(Path('Resources/2020Q1loans.csv'))"
   ]
  },
  {
   "cell_type": "code",
   "execution_count": 3,
   "metadata": {},
   "outputs": [
    {
     "name": "stdout",
     "output_type": "stream",
     "text": [
      "<class 'pandas.core.frame.DataFrame'>\n",
      "RangeIndex: 12180 entries, 0 to 12179\n",
      "Data columns (total 84 columns):\n",
      " #   Column                      Non-Null Count  Dtype  \n",
      "---  ------                      --------------  -----  \n",
      " 0   loan_amnt                   12180 non-null  float64\n",
      " 1   int_rate                    12180 non-null  float64\n",
      " 2   installment                 12180 non-null  float64\n",
      " 3   home_ownership              12180 non-null  object \n",
      " 4   annual_inc                  12180 non-null  float64\n",
      " 5   verification_status         12180 non-null  object \n",
      " 6   pymnt_plan                  12180 non-null  object \n",
      " 7   dti                         12180 non-null  float64\n",
      " 8   delinq_2yrs                 12180 non-null  float64\n",
      " 9   inq_last_6mths              12180 non-null  float64\n",
      " 10  open_acc                    12180 non-null  float64\n",
      " 11  pub_rec                     12180 non-null  float64\n",
      " 12  revol_bal                   12180 non-null  float64\n",
      " 13  total_acc                   12180 non-null  float64\n",
      " 14  initial_list_status         12180 non-null  object \n",
      " 15  out_prncp                   12180 non-null  float64\n",
      " 16  out_prncp_inv               12180 non-null  float64\n",
      " 17  total_pymnt                 12180 non-null  float64\n",
      " 18  total_pymnt_inv             12180 non-null  float64\n",
      " 19  total_rec_prncp             12180 non-null  float64\n",
      " 20  total_rec_int               12180 non-null  float64\n",
      " 21  total_rec_late_fee          12180 non-null  float64\n",
      " 22  recoveries                  12180 non-null  float64\n",
      " 23  collection_recovery_fee     12180 non-null  float64\n",
      " 24  last_pymnt_amnt             12180 non-null  float64\n",
      " 25  collections_12_mths_ex_med  12180 non-null  float64\n",
      " 26  policy_code                 12180 non-null  float64\n",
      " 27  application_type            12180 non-null  object \n",
      " 28  acc_now_delinq              12180 non-null  float64\n",
      " 29  tot_coll_amt                12180 non-null  float64\n",
      " 30  tot_cur_bal                 12180 non-null  float64\n",
      " 31  open_acc_6m                 12180 non-null  float64\n",
      " 32  open_act_il                 12180 non-null  float64\n",
      " 33  open_il_12m                 12180 non-null  float64\n",
      " 34  open_il_24m                 12180 non-null  float64\n",
      " 35  mths_since_rcnt_il          12180 non-null  float64\n",
      " 36  total_bal_il                12180 non-null  float64\n",
      " 37  il_util                     12180 non-null  float64\n",
      " 38  open_rv_12m                 12180 non-null  float64\n",
      " 39  open_rv_24m                 12180 non-null  float64\n",
      " 40  max_bal_bc                  12180 non-null  float64\n",
      " 41  all_util                    12180 non-null  float64\n",
      " 42  total_rev_hi_lim            12180 non-null  float64\n",
      " 43  inq_fi                      12180 non-null  float64\n",
      " 44  total_cu_tl                 12180 non-null  float64\n",
      " 45  inq_last_12m                12180 non-null  float64\n",
      " 46  acc_open_past_24mths        12180 non-null  float64\n",
      " 47  avg_cur_bal                 12180 non-null  float64\n",
      " 48  bc_open_to_buy              12180 non-null  float64\n",
      " 49  bc_util                     12180 non-null  float64\n",
      " 50  chargeoff_within_12_mths    12180 non-null  float64\n",
      " 51  delinq_amnt                 12180 non-null  float64\n",
      " 52  mo_sin_old_il_acct          12180 non-null  float64\n",
      " 53  mo_sin_old_rev_tl_op        12180 non-null  float64\n",
      " 54  mo_sin_rcnt_rev_tl_op       12180 non-null  float64\n",
      " 55  mo_sin_rcnt_tl              12180 non-null  float64\n",
      " 56  mort_acc                    12180 non-null  float64\n",
      " 57  mths_since_recent_bc        12180 non-null  float64\n",
      " 58  mths_since_recent_inq       12180 non-null  float64\n",
      " 59  num_accts_ever_120_pd       12180 non-null  float64\n",
      " 60  num_actv_bc_tl              12180 non-null  float64\n",
      " 61  num_actv_rev_tl             12180 non-null  float64\n",
      " 62  num_bc_sats                 12180 non-null  float64\n",
      " 63  num_bc_tl                   12180 non-null  float64\n",
      " 64  num_il_tl                   12180 non-null  float64\n",
      " 65  num_op_rev_tl               12180 non-null  float64\n",
      " 66  num_rev_accts               12180 non-null  float64\n",
      " 67  num_rev_tl_bal_gt_0         12180 non-null  float64\n",
      " 68  num_sats                    12180 non-null  float64\n",
      " 69  num_tl_120dpd_2m            12180 non-null  float64\n",
      " 70  num_tl_30dpd                12180 non-null  float64\n",
      " 71  num_tl_90g_dpd_24m          12180 non-null  float64\n",
      " 72  num_tl_op_past_12m          12180 non-null  float64\n",
      " 73  pct_tl_nvr_dlq              12180 non-null  float64\n",
      " 74  percent_bc_gt_75            12180 non-null  float64\n",
      " 75  pub_rec_bankruptcies        12180 non-null  float64\n",
      " 76  tax_liens                   12180 non-null  float64\n",
      " 77  tot_hi_cred_lim             12180 non-null  float64\n",
      " 78  total_bal_ex_mort           12180 non-null  float64\n",
      " 79  total_bc_limit              12180 non-null  float64\n",
      " 80  total_il_high_credit_limit  12180 non-null  float64\n",
      " 81  hardship_flag               12180 non-null  object \n",
      " 82  debt_settlement_flag        12180 non-null  object \n",
      " 83  target                      12180 non-null  object \n",
      "dtypes: float64(76), object(8)\n",
      "memory usage: 7.8+ MB\n"
     ]
    }
   ],
   "source": [
    "# Checking the data type and null values on train_df\n",
    "train_df.info()"
   ]
  },
  {
   "cell_type": "code",
   "execution_count": 4,
   "metadata": {},
   "outputs": [
    {
     "name": "stdout",
     "output_type": "stream",
     "text": [
      "<class 'pandas.core.frame.DataFrame'>\n",
      "RangeIndex: 4702 entries, 0 to 4701\n",
      "Data columns (total 84 columns):\n",
      " #   Column                      Non-Null Count  Dtype  \n",
      "---  ------                      --------------  -----  \n",
      " 0   loan_amnt                   4702 non-null   float64\n",
      " 1   int_rate                    4702 non-null   float64\n",
      " 2   installment                 4702 non-null   float64\n",
      " 3   home_ownership              4702 non-null   object \n",
      " 4   annual_inc                  4702 non-null   float64\n",
      " 5   verification_status         4702 non-null   object \n",
      " 6   pymnt_plan                  4702 non-null   object \n",
      " 7   dti                         4702 non-null   float64\n",
      " 8   delinq_2yrs                 4702 non-null   float64\n",
      " 9   inq_last_6mths              4702 non-null   float64\n",
      " 10  open_acc                    4702 non-null   float64\n",
      " 11  pub_rec                     4702 non-null   float64\n",
      " 12  revol_bal                   4702 non-null   float64\n",
      " 13  total_acc                   4702 non-null   float64\n",
      " 14  initial_list_status         4702 non-null   object \n",
      " 15  out_prncp                   4702 non-null   float64\n",
      " 16  out_prncp_inv               4702 non-null   float64\n",
      " 17  total_pymnt                 4702 non-null   float64\n",
      " 18  total_pymnt_inv             4702 non-null   float64\n",
      " 19  total_rec_prncp             4702 non-null   float64\n",
      " 20  total_rec_int               4702 non-null   float64\n",
      " 21  total_rec_late_fee          4702 non-null   float64\n",
      " 22  recoveries                  4702 non-null   float64\n",
      " 23  collection_recovery_fee     4702 non-null   float64\n",
      " 24  last_pymnt_amnt             4702 non-null   float64\n",
      " 25  collections_12_mths_ex_med  4702 non-null   float64\n",
      " 26  policy_code                 4702 non-null   float64\n",
      " 27  application_type            4702 non-null   object \n",
      " 28  acc_now_delinq              4702 non-null   float64\n",
      " 29  tot_coll_amt                4702 non-null   float64\n",
      " 30  tot_cur_bal                 4702 non-null   float64\n",
      " 31  open_acc_6m                 4702 non-null   float64\n",
      " 32  open_act_il                 4702 non-null   float64\n",
      " 33  open_il_12m                 4702 non-null   float64\n",
      " 34  open_il_24m                 4702 non-null   float64\n",
      " 35  mths_since_rcnt_il          4702 non-null   float64\n",
      " 36  total_bal_il                4702 non-null   float64\n",
      " 37  il_util                     4702 non-null   float64\n",
      " 38  open_rv_12m                 4702 non-null   float64\n",
      " 39  open_rv_24m                 4702 non-null   float64\n",
      " 40  max_bal_bc                  4702 non-null   float64\n",
      " 41  all_util                    4702 non-null   float64\n",
      " 42  total_rev_hi_lim            4702 non-null   float64\n",
      " 43  inq_fi                      4702 non-null   float64\n",
      " 44  total_cu_tl                 4702 non-null   float64\n",
      " 45  inq_last_12m                4702 non-null   float64\n",
      " 46  acc_open_past_24mths        4702 non-null   float64\n",
      " 47  avg_cur_bal                 4702 non-null   float64\n",
      " 48  bc_open_to_buy              4702 non-null   float64\n",
      " 49  bc_util                     4702 non-null   float64\n",
      " 50  chargeoff_within_12_mths    4702 non-null   float64\n",
      " 51  delinq_amnt                 4702 non-null   float64\n",
      " 52  mo_sin_old_il_acct          4702 non-null   float64\n",
      " 53  mo_sin_old_rev_tl_op        4702 non-null   float64\n",
      " 54  mo_sin_rcnt_rev_tl_op       4702 non-null   float64\n",
      " 55  mo_sin_rcnt_tl              4702 non-null   float64\n",
      " 56  mort_acc                    4702 non-null   float64\n",
      " 57  mths_since_recent_bc        4702 non-null   float64\n",
      " 58  mths_since_recent_inq       4702 non-null   float64\n",
      " 59  num_accts_ever_120_pd       4702 non-null   float64\n",
      " 60  num_actv_bc_tl              4702 non-null   float64\n",
      " 61  num_actv_rev_tl             4702 non-null   float64\n",
      " 62  num_bc_sats                 4702 non-null   float64\n",
      " 63  num_bc_tl                   4702 non-null   float64\n",
      " 64  num_il_tl                   4702 non-null   float64\n",
      " 65  num_op_rev_tl               4702 non-null   float64\n",
      " 66  num_rev_accts               4702 non-null   float64\n",
      " 67  num_rev_tl_bal_gt_0         4702 non-null   float64\n",
      " 68  num_sats                    4702 non-null   float64\n",
      " 69  num_tl_120dpd_2m            4702 non-null   float64\n",
      " 70  num_tl_30dpd                4702 non-null   float64\n",
      " 71  num_tl_90g_dpd_24m          4702 non-null   float64\n",
      " 72  num_tl_op_past_12m          4702 non-null   float64\n",
      " 73  pct_tl_nvr_dlq              4702 non-null   float64\n",
      " 74  percent_bc_gt_75            4702 non-null   float64\n",
      " 75  pub_rec_bankruptcies        4702 non-null   float64\n",
      " 76  tax_liens                   4702 non-null   float64\n",
      " 77  tot_hi_cred_lim             4702 non-null   float64\n",
      " 78  total_bal_ex_mort           4702 non-null   float64\n",
      " 79  total_bc_limit              4702 non-null   float64\n",
      " 80  total_il_high_credit_limit  4702 non-null   float64\n",
      " 81  hardship_flag               4702 non-null   object \n",
      " 82  debt_settlement_flag        4702 non-null   object \n",
      " 83  target                      4702 non-null   object \n",
      "dtypes: float64(76), object(8)\n",
      "memory usage: 3.0+ MB\n"
     ]
    }
   ],
   "source": [
    "# Checking the data type and null values on test_df\n",
    "test_df.info()"
   ]
  },
  {
   "cell_type": "code",
   "execution_count": 5,
   "metadata": {},
   "outputs": [],
   "source": [
    "# Convert categorical data to numeric and separate target feature for training data\n",
    "X1=train_df.drop('target',axis=1)\n",
    "# X_train=pd.get_dummies(X1)\n",
    "X_train=pd.get_dummies(X1,columns=['home_ownership','verification_status','pymnt_plan','initial_list_status','application_type','hardship_flag','debt_settlement_flag' ],drop_first=True)\n",
    "y1=train_df['target']\n",
    "y_train=LabelEncoder().fit_transform(y1)"
   ]
  },
  {
   "cell_type": "code",
   "execution_count": 6,
   "metadata": {},
   "outputs": [],
   "source": [
    "# Convert categorical data to numeric and separate target feature for testing data\n",
    "X2=test_df.drop('target',axis=1)\n",
    "# X_test=pd.get_dummies(X2)\n",
    "X_test=pd.get_dummies(X2,columns=['home_ownership','verification_status','pymnt_plan','initial_list_status','application_type','hardship_flag','debt_settlement_flag' ],drop_first=True)\n",
    "y2=test_df['target']\n",
    "y_test=LabelEncoder().fit_transform(y2)"
   ]
  },
  {
   "cell_type": "code",
   "execution_count": 7,
   "metadata": {
    "scrolled": false
   },
   "outputs": [
    {
     "name": "stdout",
     "output_type": "stream",
     "text": [
      "{'debt_settlement_flag_Y'}\n"
     ]
    },
    {
     "data": {
      "text/plain": [
       "array([ True,  True,  True,  True,  True,  True,  True,  True,  True,\n",
       "        True,  True,  True,  True,  True,  True,  True,  True,  True,\n",
       "        True,  True,  True,  True,  True,  True,  True,  True,  True,\n",
       "        True,  True,  True,  True,  True,  True,  True,  True,  True,\n",
       "        True,  True,  True,  True,  True,  True,  True,  True,  True,\n",
       "        True,  True,  True,  True,  True,  True,  True,  True,  True,\n",
       "        True,  True,  True,  True,  True,  True,  True,  True,  True,\n",
       "        True,  True,  True,  True,  True,  True,  True,  True,  True,\n",
       "        True,  True,  True,  True,  True,  True,  True,  True,  True,\n",
       "        True,  True,  True,  True])"
      ]
     },
     "execution_count": 7,
     "metadata": {},
     "output_type": "execute_result"
    }
   ],
   "source": [
    "# add missing dummy variables to testing set\n",
    "\n",
    "# Get the name of missing columns\n",
    "missing_cols = set( X_train.columns ) - set( X_test.columns )\n",
    "print(missing_cols)\n",
    "# Add the missing columns in the testing set and filling them with 0\n",
    "for col in missing_cols:\n",
    "    X_test[col] = 0\n",
    "\n",
    "# Align the order of the columns in the training and testing sets\n",
    "X_train, X_test = X_train.align(X_test, axis=1)\n",
    "\n",
    "# Confirm that the columns are aligned and none is missing\n",
    "X_train.columns==X_test.columns"
   ]
  },
  {
   "cell_type": "markdown",
   "metadata": {},
   "source": [
    "# Unscaled Data"
   ]
  },
  {
   "cell_type": "markdown",
   "metadata": {},
   "source": [
    "I predict that the Random Forest Classifier will do better than the logistic Regression as given the number of features, it is best to combine a number of decision trees on different subsets of a dataset and averages the results to increase the dataset's predicted accuracy.It will also overcome the problem of decision tree overfitting.\n",
    "\n"
   ]
  },
  {
   "cell_type": "code",
   "execution_count": 8,
   "metadata": {
    "scrolled": true
   },
   "outputs": [
    {
     "name": "stdout",
     "output_type": "stream",
     "text": [
      "Logisitc Regression - Unscaled Data\n",
      "------------------------------------\n",
      "Training Data Score: 0.6998357963875205\n",
      "Testing Data Score: 0.5669927690344534\n"
     ]
    },
    {
     "name": "stderr",
     "output_type": "stream",
     "text": [
      "C:\\Users\\JINK\\anaconda3\\lib\\site-packages\\sklearn\\linear_model\\_logistic.py:814: ConvergenceWarning: lbfgs failed to converge (status=1):\n",
      "STOP: TOTAL NO. of ITERATIONS REACHED LIMIT.\n",
      "\n",
      "Increase the number of iterations (max_iter) or scale the data as shown in:\n",
      "    https://scikit-learn.org/stable/modules/preprocessing.html\n",
      "Please also refer to the documentation for alternative solver options:\n",
      "    https://scikit-learn.org/stable/modules/linear_model.html#logistic-regression\n",
      "  n_iter_i = _check_optimize_result(\n"
     ]
    }
   ],
   "source": [
    "# Train the Logistic Regression model on the unscaled data and print the model score\n",
    "classifier= LogisticRegression(max_iter=2000,solver='lbfgs').fit(X_train,y_train)\n",
    "\n",
    "print('Logisitc Regression - Unscaled Data')\n",
    "print(\"------------------------------------\")\n",
    "print(f'Training Data Score: {classifier.score(X_train, y_train)}')\n",
    "print(f'Testing Data Score: {classifier.score(X_test, y_test)}')"
   ]
  },
  {
   "cell_type": "code",
   "execution_count": 9,
   "metadata": {
    "scrolled": false
   },
   "outputs": [
    {
     "name": "stdout",
     "output_type": "stream",
     "text": [
      "Random Forest Classifier - Unscaled Data\n",
      "------------------------------------\n",
      "Training Data Score: 1.0\n",
      "Testing Data Score: 0.638664398128456\n"
     ]
    }
   ],
   "source": [
    "# Train a Random Forest Classifier model and print the model score\n",
    "classifier=RandomForestClassifier(random_state=1,n_estimators=500).fit(X_train,y_train)\n",
    "\n",
    "print('Random Forest Classifier - Unscaled Data')\n",
    "print(\"------------------------------------\")\n",
    "print(f'Training Data Score: {classifier.score(X_train, y_train)}')\n",
    "print(f'Testing Data Score: {classifier.score(X_test, y_test)}')"
   ]
  },
  {
   "cell_type": "markdown",
   "metadata": {},
   "source": [
    "# Scaled Data"
   ]
  },
  {
   "cell_type": "markdown",
   "metadata": {},
   "source": [
    "I predict that the Logistic Regression will do better on the scaled data as it will center the data distribution around 0."
   ]
  },
  {
   "cell_type": "code",
   "execution_count": 10,
   "metadata": {},
   "outputs": [],
   "source": [
    "# Scale the data\n",
    "scaler=StandardScaler().fit(X_train)\n",
    "X_train_scaled=scaler.transform(X_train)\n",
    "X_test_scaled=scaler.transform(X_test)"
   ]
  },
  {
   "cell_type": "code",
   "execution_count": 11,
   "metadata": {},
   "outputs": [
    {
     "name": "stdout",
     "output_type": "stream",
     "text": [
      "Logisitc Regression - Scaled Data\n",
      "------------------------------------\n",
      "Training Data Score: 0.7108374384236453\n",
      "Testing Data Score: 0.7598894087622289\n"
     ]
    }
   ],
   "source": [
    "# Train the Logistic Regression model on the scaled data and print the model score\n",
    "classifier= LogisticRegression(max_iter=2000,solver='lbfgs').fit(X_train_scaled,y_train)\n",
    "\n",
    "\n",
    "print('Logisitc Regression - Scaled Data')\n",
    "print(\"------------------------------------\")\n",
    "print(f'Training Data Score: {classifier.score(X_train_scaled, y_train)}')\n",
    "print(f'Testing Data Score: {classifier.score(X_test_scaled, y_test)}')\n"
   ]
  },
  {
   "cell_type": "code",
   "execution_count": 12,
   "metadata": {},
   "outputs": [
    {
     "name": "stdout",
     "output_type": "stream",
     "text": [
      "Random Forest Classifier - Scaled Data\n",
      "------------------------------------\n",
      "Training Data Score: 1.0\n",
      "Testing Data Score: 0.6384517226712038\n"
     ]
    }
   ],
   "source": [
    "# Train a Random Forest Classifier model on the scaled data and print the model score\n",
    "classifier=RandomForestClassifier(random_state=1,n_estimators=500).fit(X_train_scaled,y_train)\n",
    "\n",
    "print('Random Forest Classifier - Scaled Data')\n",
    "print(\"------------------------------------\")\n",
    "print(f'Training Data Score: {classifier.score(X_train_scaled, y_train)}')\n",
    "print(f'Testing Data Score: {classifier.score(X_test_scaled, y_test)}')"
   ]
  },
  {
   "cell_type": "markdown",
   "metadata": {},
   "source": [
    "# Recap\n",
    "Logisitc Regression - Unscaled Data\n",
    "------------------------------------\n",
    "Training Data Score: 0.6998357963875205\n",
    "\n",
    "Testing Data Score: 0.5669927690344534\n",
    "\n",
    "\n",
    "Random Forest Classifier - Unscaled Data\n",
    "------------------------------------\n",
    "Training Data Score: 1.0\n",
    "\n",
    "Testing Data Score: 0.638664398128456\n",
    "\n",
    "\n",
    "Logisitc Regression - Scaled Data\n",
    "------------------------------------\n",
    "Training Data Score: 0.7108374384236453\n",
    "\n",
    "Testing Data Score: 0.7598894087622289\n",
    "\n",
    "\n",
    "Random Forest Classifier - Scaled Data\n",
    "------------------------------------\n",
    "Training Data Score: 1.0\n",
    "\n",
    "Testing Data Score: 0.6384517226712038\n",
    "\n",
    "\n",
    "The results show that the Logisitic Regression does better than the Random Forest Classifier on the scaled data. However, scaling the data didn't really impact the Random Forest Classifier mainly because Random Forest is a tree-based model and not distance based model and hence does not require feature scaling."
   ]
  },
  {
   "cell_type": "markdown",
   "metadata": {},
   "source": [
    "# Bonus: Feature Selection"
   ]
  },
  {
   "cell_type": "code",
   "execution_count": 13,
   "metadata": {},
   "outputs": [
    {
     "name": "stdout",
     "output_type": "stream",
     "text": [
      "[1.61509763e-02 3.35805288e-02 3.16268677e-02 1.45115439e-02\n",
      " 1.57130552e-02 2.87178435e-03 4.19946384e-03 8.38440422e-03\n",
      " 1.34225009e-03 1.50282715e-02 1.12408751e-02 2.98005842e-02\n",
      " 3.02804259e-02 4.53835987e-02 4.53966730e-02 5.41038094e-02\n",
      " 5.10787792e-02 1.68753172e-02 0.00000000e+00 0.00000000e+00\n",
      " 1.04277842e-01 7.18845068e-04 0.00000000e+00 0.00000000e+00\n",
      " 4.04170581e-03 1.35603230e-02 4.46023025e-03 6.42373938e-03\n",
      " 3.91310480e-03 5.99590136e-03 1.19732508e-02 1.30974633e-02\n",
      " 1.39946287e-02 4.92978884e-03 7.68891839e-03 1.53227142e-02\n",
      " 1.30276246e-02 1.55675281e-02 5.98612508e-03 6.86145744e-03\n",
      " 7.83168400e-03 9.72864193e-03 1.40962815e-02 1.53225012e-02\n",
      " 1.40192198e-02 3.03011580e-04 0.00000000e+00 1.54441353e-02\n",
      " 1.63086290e-02 1.19657273e-02 1.02065226e-02 5.68597468e-03\n",
      " 1.30362903e-02 1.16591811e-02 3.55828339e-03 7.06582621e-03\n",
      " 7.87400275e-03 7.05926136e-03 8.44768922e-03 1.01129423e-02\n",
      " 8.17787432e-03 9.93279460e-03 7.64435112e-03 8.64017503e-03\n",
      " 0.00000000e+00 0.00000000e+00 1.05355601e-03 6.80131880e-03\n",
      " 9.41932282e-03 7.51072932e-03 1.40850009e-03 0.00000000e+00\n",
      " 1.42584849e-02 1.31672857e-02 1.50743444e-02 1.32300391e-02\n",
      " 1.65530679e-03 1.55633577e-03 1.78720279e-03 2.00388100e-03\n",
      " 1.64372338e-03 1.16919132e-03 1.65152600e-03 3.02501304e-03\n",
      " 5.28381123e-05]\n"
     ]
    },
    {
     "data": {
      "image/png": "[encoded data removed]",
      "text/plain": [
       "<Figure size 432x288 with 1 Axes>"
      ]
     },
     "metadata": {
      "needs_background": "light"
     },
     "output_type": "display_data"
    }
   ],
   "source": [
    "features = classifier.feature_importances_\n",
    "print(features)\n",
    "import matplotlib.pyplot as plt\n",
    "plt.bar(x = range(len(features)), height=features)\n",
    "plt.show()"
   ]
  },
  {
   "cell_type": "code",
   "execution_count": 14,
   "metadata": {},
   "outputs": [
    {
     "data": {
      "text/plain": [
       "array([ True,  True,  True,  True,  True, False, False, False, False,\n",
       "        True, False,  True,  True,  True,  True,  True,  True,  True,\n",
       "       False, False,  True, False, False, False, False,  True, False,\n",
       "       False, False, False,  True,  True,  True, False, False,  True,\n",
       "        True,  True, False, False, False, False,  True,  True,  True,\n",
       "       False, False,  True,  True,  True, False, False,  True, False,\n",
       "       False, False, False, False, False, False, False, False, False,\n",
       "       False, False, False, False, False, False, False, False, False,\n",
       "        True,  True,  True,  True, False, False, False, False, False,\n",
       "       False, False, False, False])"
      ]
     },
     "execution_count": 14,
     "metadata": {},
     "output_type": "execute_result"
    }
   ],
   "source": [
    "sel = SelectFromModel(classifier)\n",
    "sel.fit(X_train_scaled, y_train)\n",
    "sel.get_support()"
   ]
  },
  {
   "cell_type": "code",
   "execution_count": 15,
   "metadata": {},
   "outputs": [
    {
     "name": "stderr",
     "output_type": "stream",
     "text": [
      "C:\\Users\\JINK\\anaconda3\\lib\\site-packages\\sklearn\\base.py:443: UserWarning: X has feature names, but SelectFromModel was fitted without feature names\n",
      "  warnings.warn(\n",
      "C:\\Users\\JINK\\anaconda3\\lib\\site-packages\\sklearn\\base.py:443: UserWarning: X has feature names, but SelectFromModel was fitted without feature names\n",
      "  warnings.warn(\n"
     ]
    }
   ],
   "source": [
    "X_selected_train= sel.transform(X_train)\n",
    "X_selected_test= sel.transform(X_test)\n",
    "scaler = StandardScaler().fit(X_selected_train)\n",
    "X_selected_train_scaled = scaler.transform(X_selected_train)\n",
    "X_selected_test_scaled = scaler.transform(X_selected_test)"
   ]
  },
  {
   "cell_type": "code",
   "execution_count": 16,
   "metadata": {
    "scrolled": true
   },
   "outputs": [
    {
     "name": "stdout",
     "output_type": "stream",
     "text": [
      "Training Score: 0.7093596059113301\n",
      "Testing Score: 0.7735006380263718\n"
     ]
    },
    {
     "name": "stderr",
     "output_type": "stream",
     "text": [
      "C:\\Users\\JINK\\anaconda3\\lib\\site-packages\\sklearn\\linear_model\\_logistic.py:814: ConvergenceWarning: lbfgs failed to converge (status=1):\n",
      "STOP: TOTAL NO. of ITERATIONS REACHED LIMIT.\n",
      "\n",
      "Increase the number of iterations (max_iter) or scale the data as shown in:\n",
      "    https://scikit-learn.org/stable/modules/preprocessing.html\n",
      "Please also refer to the documentation for alternative solver options:\n",
      "    https://scikit-learn.org/stable/modules/linear_model.html#logistic-regression\n",
      "  n_iter_i = _check_optimize_result(\n"
     ]
    }
   ],
   "source": [
    "clf = LogisticRegression()\n",
    "clf.fit(X_selected_train_scaled, y_train)\n",
    "print(f'Training Score: {clf.score(X_selected_train_scaled, y_train)}')\n",
    "print(f'Testing Score: {clf.score(X_selected_test_scaled, y_test)}')"
   ]
  }
 ],
 "metadata": {
  "kernelspec": {
   "display_name": "Python 3",
   "language": "python",
   "name": "python3"
  },
  "language_info": {
   "codemirror_mode": {
    "name": "ipython",
    "version": 3
   },
   "file_extension": ".py",
   "mimetype": "text/x-python",
   "name": "python",
   "nbconvert_exporter": "python",
   "pygments_lexer": "ipython3",
   "version": "3.8.8"
  }
 },
 "nbformat": 4,
 "nbformat_minor": 4
}
